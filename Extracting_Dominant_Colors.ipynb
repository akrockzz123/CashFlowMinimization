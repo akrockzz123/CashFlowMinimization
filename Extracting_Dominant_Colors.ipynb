{
  "nbformat": 4,
  "nbformat_minor": 0,
  "metadata": {
    "colab": {
      "name": "Extracting_Dominant_Colors.ipynb",
      "private_outputs": true,
      "provenance": [],
      "authorship_tag": "ABX9TyPceMdGuV6PFfdDspYEWB1E",
      "include_colab_link": true
    },
    "kernelspec": {
      "name": "python3",
      "display_name": "Python 3"
    },
    "language_info": {
      "name": "python"
    }
  },
  "cells": [
    {
      "cell_type": "markdown",
      "metadata": {
        "id": "view-in-github",
        "colab_type": "text"
      },
      "source": [
        "<a href=\"https://colab.research.google.com/github/akrockzz123/CashFlowMinimization/blob/main/Extracting_Dominant_Colors.ipynb\" target=\"_parent\"><img src=\"https://colab.research.google.com/assets/colab-badge.svg\" alt=\"Open In Colab\"/></a>"
      ]
    },
    {
      "cell_type": "code",
      "metadata": {
        "id": "TA3NEADrqjnQ"
      },
      "source": [
        ""
      ],
      "execution_count": null,
      "outputs": []
    },
    {
      "cell_type": "code",
      "metadata": {
        "id": "bdCZ4Yw6pOXu"
      },
      "source": [
        "import cv2\n"
      ],
      "execution_count": null,
      "outputs": []
    },
    {
      "cell_type": "code",
      "metadata": {
        "id": "KRMzNJp8rPcM"
      },
      "source": [
        "from google.colab import files\n",
        "from IPython.display import Image"
      ],
      "execution_count": null,
      "outputs": []
    },
    {
      "cell_type": "code",
      "metadata": {
        "id": "tYuwedrir3lP"
      },
      "source": [
        "uploaded = files.upload()"
      ],
      "execution_count": null,
      "outputs": []
    },
    {
      "cell_type": "code",
      "metadata": {
        "id": "W3G6ellWsKT9"
      },
      "source": [
        "ganesh = cv2.imread(\"WIN_20201008_15_39_08_Pro.jpg\")\n",
        "ganesh = cv2.cvtColor(ganesh,cv2.COLOR_BGR2RGB)\n",
        "print(ganesh.shape)\n",
        "original_shape = ganesh.shape"
      ],
      "execution_count": null,
      "outputs": []
    },
    {
      "cell_type": "code",
      "metadata": {
        "id": "TsdsnbcrsisF"
      },
      "source": [
        "from matplotlib import pyplot as plt\n",
        "plt.imshow(ganesh)"
      ],
      "execution_count": null,
      "outputs": []
    },
    {
      "cell_type": "code",
      "metadata": {
        "id": "DkjwBnx-sqbz"
      },
      "source": [
        "## FLATTEN ECH CHANNEL OF IMAGE\n",
        "\n",
        "all_pixels = ganesh.reshape(-1,3)"
      ],
      "execution_count": null,
      "outputs": []
    },
    {
      "cell_type": "code",
      "metadata": {
        "id": "OFlogA76y2zZ"
      },
      "source": [
        "print(all_pixels.shape)"
      ],
      "execution_count": null,
      "outputs": []
    },
    {
      "cell_type": "code",
      "metadata": {
        "id": "mG7YsHrAzuIs"
      },
      "source": [
        "from sklearn.cluster import KMeans"
      ],
      "execution_count": null,
      "outputs": []
    },
    {
      "cell_type": "code",
      "metadata": {
        "id": "hqf3jYNI0CG4"
      },
      "source": [
        "dominant_colors = 4\n",
        "km = KMeans(n_clusters=dominant_colors)\n",
        "km.fit(all_pixels)"
      ],
      "execution_count": null,
      "outputs": []
    },
    {
      "cell_type": "code",
      "metadata": {
        "id": "xekWDoAI0hfV"
      },
      "source": [
        "centers = km.cluster_centers_"
      ],
      "execution_count": null,
      "outputs": []
    },
    {
      "cell_type": "code",
      "metadata": {
        "id": "TKENK_Cz4_4z"
      },
      "source": [
        "import numpy as np\n",
        "centers = np.array(centers,dtype=\"uint8\")\n"
      ],
      "execution_count": null,
      "outputs": []
    },
    {
      "cell_type": "code",
      "metadata": {
        "id": "5LI68MkB5gLU"
      },
      "source": [
        "print(centers)"
      ],
      "execution_count": null,
      "outputs": []
    },
    {
      "cell_type": "code",
      "metadata": {
        "id": "O5UhRjRB5iIb"
      },
      "source": [
        "##  plot all the colors\n",
        "i = 1\n",
        "\n",
        "plt.figure(0,figsize=(4,2))\n",
        "\n",
        "colors = []\n",
        "for each_color in centers:\n",
        "  plt.subplot(1,4,i)\n",
        "  i += 1\n",
        "\n",
        "  colors.append(each_color)\n",
        "\n",
        "  ##color swatch\n",
        "\n",
        "  arr = np.zeros((100,100,3),dtype=\"uint8\")\n",
        "\n",
        "\n",
        "  arr[:,:,:] =each_color\n",
        "\n",
        "  plt.imshow(arr)\n",
        "\n",
        "\n",
        "plt.show()\n",
        "\n"
      ],
      "execution_count": null,
      "outputs": []
    },
    {
      "cell_type": "markdown",
      "metadata": {
        "id": "T1Adb5Tw8PjS"
      },
      "source": [
        "**IMAGE SEGMENTATION\n",
        "**"
      ]
    },
    {
      "cell_type": "code",
      "metadata": {
        "id": "WfVyya8r6E4q"
      },
      "source": [
        "new_img = np.zeros((720*1280,3),dtype=\"uint8\")"
      ],
      "execution_count": null,
      "outputs": []
    },
    {
      "cell_type": "code",
      "metadata": {
        "id": "1U9ngQrI8_jN"
      },
      "source": [
        "print(new_img.shape)\n",
        "\n",
        "#print(original_shape)\n",
        "new_img = new_img.reshape(original_shape)\n",
        "\n",
        "print(new_img.shape)\n",
        "plt.imshow(new_img)\n",
        "plt.show()"
      ],
      "execution_count": null,
      "outputs": []
    },
    {
      "cell_type": "code",
      "metadata": {
        "id": "hqvVEjUj95DP"
      },
      "source": [
        ""
      ],
      "execution_count": null,
      "outputs": []
    },
    {
      "cell_type": "code",
      "metadata": {
        "id": "yckkEGer9PEU"
      },
      "source": [
        "for ix in range(new_img.shape[0]):\n",
        "  new_img[ix] = colors[km.labels_[ix]]\n",
        "\n",
        "\n",
        "\n",
        "print(new_img.shape)\n",
        "\n",
        "plt.imshow(new_img)\n",
        "plt.show()"
      ],
      "execution_count": null,
      "outputs": []
    },
    {
      "cell_type": "code",
      "metadata": {
        "id": "7ra5HVna-ERm"
      },
      "source": [
        "km.labels_"
      ],
      "execution_count": null,
      "outputs": []
    },
    {
      "cell_type": "code",
      "metadata": {
        "id": "aoVFdfkS-FSH"
      },
      "source": [
        ""
      ],
      "execution_count": null,
      "outputs": []
    }
  ]
}